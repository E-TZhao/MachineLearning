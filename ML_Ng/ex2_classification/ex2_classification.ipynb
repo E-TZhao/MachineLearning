{
 "cells": [
  {
   "cell_type": "markdown",
   "metadata": {},
   "source": [
    "### Logistic Regression"
   ]
  },
  {
   "cell_type": "code",
   "execution_count": 2,
   "metadata": {},
   "outputs": [],
   "source": [
    "import numpy as np\n",
    "import pandas as pd\n",
    "import matplotlib.pyplot as plt"
   ]
  },
  {
   "cell_type": "code",
   "execution_count": 3,
   "metadata": {
    "scrolled": true
   },
   "outputs": [
    {
     "data": {
      "text/plain": [
       "array([[34.62365962, 78.02469282,  0.        ],\n",
       "       [30.28671077, 43.89499752,  0.        ],\n",
       "       [35.84740877, 72.90219803,  0.        ],\n",
       "       [60.18259939, 86.3085521 ,  1.        ],\n",
       "       [79.03273605, 75.34437644,  1.        ],\n",
       "       [45.08327748, 56.31637178,  0.        ],\n",
       "       [61.10666454, 96.51142588,  1.        ],\n",
       "       [75.02474557, 46.55401354,  1.        ],\n",
       "       [76.0987867 , 87.42056972,  1.        ],\n",
       "       [84.43281996, 43.53339331,  1.        ],\n",
       "       [95.86155507, 38.22527806,  0.        ],\n",
       "       [75.01365839, 30.60326323,  0.        ],\n",
       "       [82.30705337, 76.4819633 ,  1.        ],\n",
       "       [69.36458876, 97.71869196,  1.        ],\n",
       "       [39.53833914, 76.03681085,  0.        ],\n",
       "       [53.97105215, 89.20735014,  1.        ],\n",
       "       [69.07014406, 52.74046973,  1.        ],\n",
       "       [67.94685548, 46.67857411,  0.        ],\n",
       "       [70.66150955, 92.92713789,  1.        ],\n",
       "       [76.97878373, 47.57596365,  1.        ],\n",
       "       [67.37202755, 42.83843832,  0.        ],\n",
       "       [89.67677575, 65.79936593,  1.        ],\n",
       "       [50.53478829, 48.85581153,  0.        ],\n",
       "       [34.21206098, 44.2095286 ,  0.        ],\n",
       "       [77.92409145, 68.97235999,  1.        ],\n",
       "       [62.27101367, 69.95445795,  1.        ],\n",
       "       [80.19018075, 44.82162893,  1.        ],\n",
       "       [93.1143888 , 38.80067034,  0.        ],\n",
       "       [61.83020602, 50.25610789,  0.        ],\n",
       "       [38.7858038 , 64.99568096,  0.        ],\n",
       "       [61.37928945, 72.80788731,  1.        ],\n",
       "       [85.40451939, 57.05198398,  1.        ],\n",
       "       [52.10797973, 63.12762377,  0.        ],\n",
       "       [52.04540477, 69.43286012,  1.        ],\n",
       "       [40.23689374, 71.16774802,  0.        ],\n",
       "       [54.63510555, 52.21388588,  0.        ],\n",
       "       [33.91550011, 98.86943574,  0.        ],\n",
       "       [64.17698887, 80.90806059,  1.        ],\n",
       "       [74.78925296, 41.57341523,  0.        ],\n",
       "       [34.18364003, 75.23772034,  0.        ],\n",
       "       [83.90239366, 56.30804622,  1.        ],\n",
       "       [51.54772027, 46.85629026,  0.        ],\n",
       "       [94.44336777, 65.56892161,  1.        ],\n",
       "       [82.36875376, 40.61825516,  0.        ],\n",
       "       [51.04775177, 45.82270146,  0.        ],\n",
       "       [62.22267576, 52.06099195,  0.        ],\n",
       "       [77.19303493, 70.4582    ,  1.        ],\n",
       "       [97.77159928, 86.72782233,  1.        ],\n",
       "       [62.0730638 , 96.76882412,  1.        ],\n",
       "       [91.5649745 , 88.69629255,  1.        ],\n",
       "       [79.94481794, 74.16311935,  1.        ],\n",
       "       [99.27252693, 60.999031  ,  1.        ],\n",
       "       [90.54671411, 43.39060181,  1.        ],\n",
       "       [34.52451385, 60.39634246,  0.        ],\n",
       "       [50.28649612, 49.80453881,  0.        ],\n",
       "       [49.58667722, 59.80895099,  0.        ],\n",
       "       [97.64563396, 68.86157272,  1.        ],\n",
       "       [32.57720017, 95.59854761,  0.        ],\n",
       "       [74.24869137, 69.82457123,  1.        ],\n",
       "       [71.79646206, 78.45356225,  1.        ],\n",
       "       [75.39561147, 85.75993667,  1.        ],\n",
       "       [35.28611282, 47.02051395,  0.        ],\n",
       "       [56.2538175 , 39.26147251,  0.        ],\n",
       "       [30.05882245, 49.59297387,  0.        ],\n",
       "       [44.66826172, 66.45008615,  0.        ],\n",
       "       [66.56089447, 41.09209808,  0.        ],\n",
       "       [40.45755098, 97.53518549,  1.        ],\n",
       "       [49.07256322, 51.88321182,  0.        ],\n",
       "       [80.27957401, 92.11606081,  1.        ],\n",
       "       [66.74671857, 60.99139403,  1.        ],\n",
       "       [32.72283304, 43.30717306,  0.        ],\n",
       "       [64.03932042, 78.03168802,  1.        ],\n",
       "       [72.34649423, 96.22759297,  1.        ],\n",
       "       [60.45788574, 73.0949981 ,  1.        ],\n",
       "       [58.84095622, 75.85844831,  1.        ],\n",
       "       [99.8278578 , 72.36925193,  1.        ],\n",
       "       [47.26426911, 88.475865  ,  1.        ],\n",
       "       [50.4581598 , 75.80985953,  1.        ],\n",
       "       [60.45555629, 42.50840944,  0.        ],\n",
       "       [82.22666158, 42.71987854,  0.        ],\n",
       "       [88.91389642, 69.8037889 ,  1.        ],\n",
       "       [94.83450672, 45.6943068 ,  1.        ],\n",
       "       [67.31925747, 66.58935318,  1.        ],\n",
       "       [57.23870632, 59.51428198,  1.        ],\n",
       "       [80.366756  , 90.9601479 ,  1.        ],\n",
       "       [68.46852179, 85.5943071 ,  1.        ],\n",
       "       [42.07545454, 78.844786  ,  0.        ],\n",
       "       [75.47770201, 90.424539  ,  1.        ],\n",
       "       [78.63542435, 96.64742717,  1.        ],\n",
       "       [52.34800399, 60.76950526,  0.        ],\n",
       "       [94.09433113, 77.15910509,  1.        ],\n",
       "       [90.44855097, 87.50879176,  1.        ],\n",
       "       [55.48216114, 35.57070347,  0.        ],\n",
       "       [74.49269242, 84.84513685,  1.        ],\n",
       "       [89.84580671, 45.35828361,  1.        ],\n",
       "       [83.48916274, 48.3802858 ,  1.        ],\n",
       "       [42.26170081, 87.10385094,  1.        ],\n",
       "       [99.31500881, 68.77540947,  1.        ],\n",
       "       [55.34001756, 64.93193801,  1.        ],\n",
       "       [74.775893  , 89.5298129 ,  1.        ]])"
      ]
     },
     "execution_count": 3,
     "metadata": {},
     "output_type": "execute_result"
    }
   ],
   "source": [
    "#数据获取(getData)\n",
    "data = np.loadtxt(\"ex2data1.txt\", dtype = np.float, delimiter = ',') #读取数据\n",
    "data"
   ]
  },
  {
   "cell_type": "code",
   "execution_count": 4,
   "metadata": {},
   "outputs": [],
   "source": [
    "#数据处理(precessData)\n",
    "\"\"\"\n",
    "index = np.lexsort([data[:, 2]]) # 按第3列值得出排序后的行索引\n",
    "data_sort = data[index, :]\n",
    "\"\"\"\n",
    "x = data[:, :2]\n",
    "y = data[:, 2]            #已降维，若y = date[:, 2:],则y和data维度一样\n",
    "#y_int = y.astype(np.int)  #将y中的元素转换为int类型，原y的类型不变\n",
    "index0 = np.where(y == 0) #获取分类为0的索引\n",
    "index1 = np.where(y == 1) #获取分类为1的索引\n",
    "#分别按索引获取不同分类的数据\n",
    "nagetive = x[index0] \n",
    "positive = x[index1]\n",
    "xn = nagetive[:, 0]\n",
    "yn = nagetive[:, 1]\n",
    "xp = positive[:, 0]\n",
    "yp = positive[:, 1]"
   ]
  },
  {
   "cell_type": "code",
   "execution_count": 5,
   "metadata": {},
   "outputs": [
    {
     "data": {
      "image/png": "[encoded data removed]",
      "text/plain": [
       "<Figure size 576x576 with 1 Axes>"
      ]
     },
     "metadata": {},
     "output_type": "display_data"
    }
   ],
   "source": [
    "#数据展示(plotData)\n",
    "plt.figure( figsize = (8,8))\n",
    "plt.plot(xn, yn, 'yo', xp, yp, 'k+')\n",
    "plt.xlabel(\"Exam 1 score\")\n",
    "plt.ylabel(\"Exam 2 score\")\n",
    "plt.title(\"Figure 1: Scatter plot of training data\")\n",
    "plt.legend(labels=[\"Not admitted\", \"admitted\"],loc = 'upper right') #添加图例\n",
    "plt.show()"
   ]
  },
  {
   "cell_type": "code",
   "execution_count": 648,
   "metadata": {},
   "outputs": [
    {
     "data": {
      "image/png": "[encoded data removed]",
      "text/plain": [
       "<Figure size 432x288 with 1 Axes>"
      ]
     },
     "metadata": {},
     "output_type": "display_data"
    }
   ],
   "source": [
    "#面向对象绘制方式\n",
    "fig = plt.figure()\n",
    "ax = fig.add_subplot(1,1,1)\n",
    "f1 = ax.plot(xn, yn, 'yo', label = \"Not admitted\")\n",
    "f2 = ax.plot(xp, yp, 'k+', label = \"Admitted\")\n",
    "ax.legend(loc = 'upper right' )  #显示图例\n",
    "plt.show()"
   ]
  },
  {
   "cell_type": "code",
   "execution_count": 6,
   "metadata": {},
   "outputs": [],
   "source": [
    "# Sigmoid function\n",
    "def sigmoid(z):\n",
    "    g = 1/(1 + np.exp(-z))\n",
    "    return g"
   ]
  },
  {
   "cell_type": "markdown",
   "metadata": {},
   "source": [
    "### 若theta的初始值取[0, 0, 0]，则梯度下降法只能到达局部最优解\n",
    "**因此，为了能选好theta的初始值，可以先通过数据图推测大概的决策边界函数然后得出初始theta值**"
   ]
  },
  {
   "cell_type": "code",
   "execution_count": 7,
   "metadata": {},
   "outputs": [
    {
     "data": {
      "text/plain": [
       "array([-21.39277144,   0.16327124,   0.16666667])"
      ]
     },
     "execution_count": 7,
     "metadata": {},
     "output_type": "execute_result"
    }
   ],
   "source": [
    "xm = [min(x[:,0])-2, max(x[:,0])+2]\n",
    "ym = [max(x[:,1])+2, min(x[:,1])-2]\n",
    "k = (ym[1] - ym[0]) / (xm[1] - xm[0])\n",
    "b = ym[0] - k*xm[0]\n",
    "theta = np.array([-b, -k, 1])/6     #如果加负号，则预测结果相反，如果不除以5，则后面计算J时回出现log0溢出\n",
    "theta"
   ]
  },
  {
   "cell_type": "code",
   "execution_count": 8,
   "metadata": {},
   "outputs": [],
   "source": [
    "# Cost function\n",
    "m = np.size(y)\n",
    "#theta = np.zeros((3))\n",
    "#theta = np.array([-25.16127, 0.20623, 0.20147])\n",
    "h = sigmoid(theta[0] + theta[1] * x[:, 0] + theta[2] * x[:, 1])\n",
    "J = (1/m) * np.sum(- y*np.log(h) - (1-y)*np.log(1-h))"
   ]
  },
  {
   "cell_type": "markdown",
   "metadata": {},
   "source": [
    "### [Difference between np.mat(or np.asmatrix) and np.matrix](https://docs.scipy.org/doc/numpy/reference/generated/numpy.mat.html)\n",
    "Unlike `matrix`, `asmatrix` does not make a copy if the input is already a matrix or an ndarray.  Equivalent to ``matrix(data, copy=False)``."
   ]
  },
  {
   "cell_type": "code",
   "execution_count": 298,
   "metadata": {},
   "outputs": [],
   "source": [
    "# 方法二：通过np.mat将array转换为matrix，再做矩阵乘法，最后再转换回array\n",
    "Xm = np.hstack(( np.mat(np.ones((m, 1))), np.mat(x)))  # 按列推叠矩阵(列数增加)，np.vstack()为按行堆叠(行数增加)\n",
    "h1 = sigmoid(np.array(Xm * np.mat(theta).T).reshape((m, ))) #  .T 为装置，.I 为求逆"
   ]
  },
  {
   "cell_type": "code",
   "execution_count": 9,
   "metadata": {},
   "outputs": [],
   "source": [
    "# Gradient\n",
    "alpha = 0.001\n",
    "iterations = 50\n",
    "CostJ = []\n",
    "for i in range(iterations):\n",
    "    t1 = theta[0] - (alpha/m) * np.sum(h - y)\n",
    "    t2 = theta[1] - (alpha/m) * np.sum((h - y) * x[:, 0])\n",
    "    t3 = theta[2] - (alpha/m) * np.sum((h - y) * x[:, 1])\n",
    "    theta[0] = t1\n",
    "    theta[1] = t2\n",
    "    theta[2] = t3\n",
    "    J = (1/m) * np.sum(- y*np.log(h) - (1-y)*np.log(1-h))\n",
    "    CostJ.append(J)\n",
    "    h = sigmoid(theta[0] + theta[1] * x[:, 0] + theta[2] * x[:, 1])"
   ]
  },
  {
   "cell_type": "code",
   "execution_count": 10,
   "metadata": {},
   "outputs": [
    {
     "data": {
      "text/plain": [
       "0.2059330388451858"
      ]
     },
     "execution_count": 10,
     "metadata": {},
     "output_type": "execute_result"
    }
   ],
   "source": [
    "min(CostJ)"
   ]
  },
  {
   "cell_type": "code",
   "execution_count": 11,
   "metadata": {
    "scrolled": true
   },
   "outputs": [
    {
     "data": {
      "image/png": "[encoded data removed]",
      "text/plain": [
       "<Figure size 432x288 with 1 Axes>"
      ]
     },
     "metadata": {},
     "output_type": "display_data"
    }
   ],
   "source": [
    "#CostJ value with iterations at alpha=0.001\n",
    "plt.plot(list(range(iterations)), CostJ,)\n",
    "plt.xlabel(\"Number of iterations\")\n",
    "plt.ylabel(\"CostJ\")\n",
    "plt.show()"
   ]
  },
  {
   "cell_type": "code",
   "execution_count": 26,
   "metadata": {
    "scrolled": true
   },
   "outputs": [
    {
     "data": {
      "text/plain": [
       "array([-21.3927054 ,   0.1755598 ,   0.17153059])"
      ]
     },
     "execution_count": 26,
     "metadata": {},
     "output_type": "execute_result"
    }
   ],
   "source": [
    "theta"
   ]
  },
  {
   "cell_type": "code",
   "execution_count": 12,
   "metadata": {},
   "outputs": [
    {
     "data": {
      "image/png": "[encoded data removed]",
      "text/plain": [
       "<Figure size 576x576 with 1 Axes>"
      ]
     },
     "metadata": {},
     "output_type": "display_data"
    }
   ],
   "source": [
    "#绘制决策边界(plotDecisionBoundary）\n",
    "\n",
    "xd = np.array([min(x[:, 0])-2, max(x[:, 0])+2])\n",
    "yd = (theta[0] + theta[1] * xd) * (-1/theta[2])\n",
    "\n",
    "plt.figure( figsize = (8,8))\n",
    "plt.plot(xn, yn, 'yo', xp, yp, 'k+')\n",
    "plt.plot(xd, yd)\n",
    "plt.xlabel(\"Exam 1 score\")\n",
    "plt.ylabel(\"Exam 2 score\")\n",
    "plt.title(\"Figure 1: Scatter plot of training data\")\n",
    "plt.legend(labels=[\"Not admitted\", \"admitted\", \"Boundary\"],loc = 'upper right') #添加图例\n",
    "plt.show()"
   ]
  },
  {
   "cell_type": "code",
   "execution_count": 13,
   "metadata": {},
   "outputs": [
    {
     "data": {
      "text/plain": [
       "0.7479267618856063"
      ]
     },
     "execution_count": 13,
     "metadata": {},
     "output_type": "execute_result"
    }
   ],
   "source": [
    "#预测数据(predict)\n",
    "test = np.array([45, 85])\n",
    "probability = sigmoid(theta[0] + np.sum(theta[1:] * test))\n",
    "probability"
   ]
  },
  {
   "cell_type": "code",
   "execution_count": 21,
   "metadata": {},
   "outputs": [
    {
     "name": "stdout",
     "output_type": "stream",
     "text": [
      "Train Accuracy: 89.00%\n"
     ]
    }
   ],
   "source": [
    "#准确度计算(Accuracy)\n",
    "res = 0\n",
    "for i in range(m):\n",
    "    if sigmoid(theta[0] + np.sum(theta[1:] * x[i, :])) >= 0.5:\n",
    "        p = 1\n",
    "    else:\n",
    "        p = 0\n",
    "    if p == y[i]:\n",
    "        res += 1\n",
    "print(\"Train Accuracy: {:.2%}\".format(res/m))"
   ]
  },
  {
   "cell_type": "code",
   "execution_count": null,
   "metadata": {},
   "outputs": [],
   "source": []
  }
 ],
 "metadata": {
  "kernelspec": {
   "display_name": "Python 3",
   "language": "python",
   "name": "python3"
  },
  "language_info": {
   "codemirror_mode": {
    "name": "ipython",
    "version": 3
   },
   "file_extension": ".py",
   "mimetype": "text/x-python",
   "name": "python",
   "nbconvert_exporter": "python",
   "pygments_lexer": "ipython3",
   "version": "3.6.0"
  }
 },
 "nbformat": 4,
 "nbformat_minor": 2
}
