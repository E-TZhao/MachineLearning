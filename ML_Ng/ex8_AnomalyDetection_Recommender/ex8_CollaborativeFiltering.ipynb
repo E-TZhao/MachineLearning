{
 "cells": [
  {
   "cell_type": "code",
   "execution_count": 1,
   "metadata": {},
   "outputs": [],
   "source": [
    "import numpy as np\n",
    "import matplotlib.pyplot as plt\n",
    "import scipy.io as sio\n",
    "import scipy.optimize as op"
   ]
  },
  {
   "cell_type": "markdown",
   "metadata": {},
   "source": [
    "## 2 Recommender Systems\n",
    "### 2.1 Movie ratings dataset\n",
    "The matrix Y (a num movies×num users matrix) stores the ratings y(i,j) (from 1 to 5).\n",
    "The matrix R is an binary-valued indicator matrix, where R(i,j) = 1 if user j gave a rating to movie i, and R(i,j) = 0 otherwise. \n",
    "### 2.2 Collaborative ﬁltering learning algorithm\n",
    "Note that the parameters to the function (i.e., the values that you are trying to learn) are X and Theta. In order to use an oﬀ-the-shelf minimizer such as fmincg, the cost function has been set up to unroll the parameters into a single vector params. You had previously used the same vector unrolling method in the neural networks programming exercise.\n",
    "- **2.2.1 Collaborative ﬁltering cost function**  \n",
    "You should return this cost in the variable J. Note that you should be accumulating the cost for user j and movie i only if R(i,j) = 1. "
   ]
  },
  {
   "cell_type": "code",
   "execution_count": 2,
   "metadata": {},
   "outputs": [],
   "source": [
    "def cofiCostFunc(params, Y, R, num_users, num_movies, num_features, lam):\n",
    "    X = params[:num_movies*num_features].reshape(num_movies, num_features)\n",
    "    Theta = params[num_movies*num_features:].reshape(num_users, num_features)\n",
    "    '''\n",
    "    J = 0\n",
    "    for i in range(num_movies):\n",
    "        for j in range(num_users):\n",
    "            if R[i, j]:\n",
    "                J = J + 0.5*(np.dot(Theta[j,:], X[i,:]) - Y[i, j])**2\n",
    "    '''\n",
    "    J = 0.5 * np.sum(R * ((np.dot(X, Theta.T)-Y)**2))  # 与R的对应元素相乘可以去除掉未评分的cost值\n",
    "    J = J + (lam/2)*np.sum(X**2) + (lam/2)*np.sum(Theta**2)\n",
    "    return J"
   ]
  },
  {
   "cell_type": "code",
   "execution_count": null,
   "metadata": {},
   "outputs": [],
   "source": [
    "    '''\n",
    "    for k in range(num_features):\n",
    "        for i in range(num_movies):\n",
    "            for j in range(num_users):\n",
    "                if R[i, j]:\n",
    "                    X_grad[i, k] = X_grad[i, k] + (np.dot(Theta[j,:], X[i,:]) - Y[i, j])*Theta[j, k] + lam*X[i,k]\n",
    "                    Theta_grad[j, k] = Theta_grad[j, k] + (np.dot(Theta[j,:], X[i,:]) - Y[i, j])*X[i, k] + lam*Theta[j,k]\n",
    "    '''"
   ]
  },
  {
   "cell_type": "code",
   "execution_count": 15,
   "metadata": {},
   "outputs": [],
   "source": [
    "def cofiGradient(params, Y, R, num_users, num_movies, num_features, lam):\n",
    "    X = params[:num_movies*num_features].reshape(num_movies, num_features)\n",
    "    Theta = params[num_movies*num_features:].reshape(num_users, num_features)\n",
    "    X_grad = np.zeros_like(X)\n",
    "    Theta_grad = np.zeros_like(Theta)\n",
    "\n",
    "    for i in range(num_movies):\n",
    "        idx = np.where(R[i, :] == 1)\n",
    "        theta_tmp = Theta[idx[0], :]\n",
    "        y_tmp = Y[i, idx[0]]\n",
    "        X_grad[i, :] = np.dot((np.dot(X[i,:], theta_tmp.T) - y_tmp), theta_tmp) + lam*X[i,:]\n",
    "    for i in range(num_users):\n",
    "        idx = np.where(R[:, i] == 1)\n",
    "        x_tmp = X[idx[0], :]\n",
    "        y_tmp = Y[idx[0], i]\n",
    "        Theta_grad[i, :] = np.dot((np.dot(x_tmp, Theta[i,:].T) - y_tmp).T, x_tmp) + lam*Theta[i,:]\n",
    "    \n",
    "    grad = np.append(X_grad.ravel(), Theta_grad.ravel())\n",
    "    return grad"
   ]
  },
  {
   "cell_type": "code",
   "execution_count": 16,
   "metadata": {},
   "outputs": [],
   "source": [
    "def loadMovieList():\n",
    "    movieList = {}\n",
    "    with open(\"movie_ids.txt\", 'r') as fo:\n",
    "        for line in fo:\n",
    "            line = line.strip()\n",
    "            for i in range(len(line)):\n",
    "                if line[i] == ' ':\n",
    "                    break\n",
    "            movieList[int(line[:i])] = line[i+1:]\n",
    "    return movieList"
   ]
  },
  {
   "cell_type": "code",
   "execution_count": 70,
   "metadata": {},
   "outputs": [
    {
     "name": "stdout",
     "output_type": "stream",
     "text": [
      "(1682, 943) (1682, 943)\n",
      "(1682, 10) (943, 10)\n",
      "(5, 4) (5, 4)\n",
      "(5, 3) (4, 3)\n",
      "31.344056244274217\n"
     ]
    }
   ],
   "source": [
    "#def main():\n",
    "data = sio.loadmat(\"ex8_movies.mat\")\n",
    "Y, R = data['Y'], data[\"R\"]\n",
    "print(Y.shape, R.shape)\n",
    "data2 = sio.loadmat(\"ex8_movieParams.mat\")\n",
    "X, Theta = data2['X'], data2['Theta']\n",
    "print(X.shape, Theta.shape)\n",
    "num_users = 4\n",
    "num_movies = 5\n",
    "num_features = 3\n",
    "X = X[:num_movies, :num_features]\n",
    "Theta = Theta[:num_users, :num_features]\n",
    "Y = Y[:num_movies, :num_users]\n",
    "R = R[:num_movies, :num_users]\n",
    "print(Y.shape, R.shape)\n",
    "print(X.shape, Theta.shape)\n",
    "params = np.append(X.ravel(), Theta.ravel())\n",
    "J = cofiCostFunc(params, Y, R, num_users, num_movies, num_features, 1.5)\n",
    "print(J)"
   ]
  },
  {
   "cell_type": "markdown",
   "metadata": {},
   "source": [
    "### 2.3 Learning movie recommendations"
   ]
  },
  {
   "cell_type": "code",
   "execution_count": 5,
   "metadata": {},
   "outputs": [
    {
     "name": "stdout",
     "output_type": "stream",
     "text": [
      "Rated 4 for Toy Story (1995)\n",
      "Rated 3 for Twelve Monkeys (1995)\n",
      "Rated 5 for Usual Suspects, The (1995)\n",
      "Rated 4 for Outbreak (1995)\n",
      "Rated 5 for Shawshank Redemption, The (1994)\n",
      "Rated 3 for While You Were Sleeping (1995)\n",
      "Rated 5 for Forrest Gump (1994)\n",
      "Rated 2 for Silence of the Lambs, The (1991)\n",
      "Rated 4 for Alien (1979)\n",
      "Rated 5 for Die Hard 2 (1990)\n",
      "Rated 5 for Sphere (1998)\n"
     ]
    }
   ],
   "source": [
    "# Part 6: Entering ratings for a new user\n",
    "movieList = loadMovieList()\n",
    "my_ratings = np.zeros(1682)\n",
    "my_ratings[1] = 4\n",
    "my_ratings[98] = 2\n",
    "my_ratings[7] = 3\n",
    "my_ratings[12] = 5\n",
    "my_ratings[54] = 4\n",
    "my_ratings[64] = 5\n",
    "my_ratings[66] = 3\n",
    "my_ratings[69] = 5\n",
    "my_ratings[183] = 4\n",
    "my_ratings[226] = 5\n",
    "my_ratings[355] = 5\n",
    "for i in range(my_ratings.size):\n",
    "    if my_ratings[i] > 0:\n",
    "        print(\"Rated {:.0f} for {}\".format(my_ratings[i], movieList[i]))"
   ]
  },
  {
   "cell_type": "code",
   "execution_count": 6,
   "metadata": {},
   "outputs": [
    {
     "name": "stdout",
     "output_type": "stream",
     "text": [
      "(1682, 943) (1682, 943)\n"
     ]
    }
   ],
   "source": [
    "# Part 7: Learning Movie Ratings\n",
    "data = sio.loadmat(\"ex8_movies.mat\")\n",
    "Y, R = data['Y'], data[\"R\"]\n",
    "print(Y.shape, R.shape)\n",
    "Y = np.hstack((my_ratings.reshape(1682,1), Y))\n",
    "R = np.hstack(((my_ratings > 0).reshape(1682,1),R))"
   ]
  },
  {
   "cell_type": "code",
   "execution_count": 7,
   "metadata": {},
   "outputs": [],
   "source": [
    "# Preprocess data by subtracting mean rating for every movie (every row)\n",
    "def normalizeRatings(Y, R):\n",
    "    m, n = Y.shape\n",
    "    Ymean = np.zeros(m)\n",
    "    Ynorm = np.zeros_like(Y)\n",
    "    for i in range(m):\n",
    "        idx = np.where(R[i,:] == 1)\n",
    "        Ymean[i] = np.mean(Y[i,:][idx])\n",
    "        Ynorm[i,idx] = Y[i,idx] - Ymean[i]\n",
    "    return Ynorm, Ymean"
   ]
  },
  {
   "cell_type": "code",
   "execution_count": 8,
   "metadata": {},
   "outputs": [],
   "source": [
    "Ynorm, Ymean = normalizeRatings(Y, R)\n",
    "num_movies, num_users = Y.shape\n",
    "num_features = 10\n",
    "X = np.random.randn(num_movies, num_features)\n",
    "Theta = np.random.randn(num_users, num_features)"
   ]
  },
  {
   "cell_type": "code",
   "execution_count": 18,
   "metadata": {},
   "outputs": [],
   "source": [
    "lam = 10\n",
    "params = np.append(X.ravel(), Theta.ravel())\n",
    "result = op.minimize(fun = cofiCostFunc, x0 = params, \\\n",
    "        args = (Y, R, num_users, num_movies, num_features, lam), method = 'TNC', jac = cofiGradient)"
   ]
  },
  {
   "cell_type": "code",
   "execution_count": 19,
   "metadata": {},
   "outputs": [
    {
     "name": "stdout",
     "output_type": "stream",
     "text": [
      "Rated 9.9 for Monty Python and the Holy Grail (1974)\n",
      "Rated 9.9 for Spy Hard (1996)\n",
      "Rated 9.8 for I.Q. (1994)\n",
      "Rated 9.6 for Snow White and the Seven Dwarfs (1937)\n",
      "Rated 9.4 for Horseman on the Roof, The (Hussard sur le toit, Le) (1995)\n",
      "Rated 9.3 for Tin Cup (1996)\n",
      "Rated 9.3 for In & Out (1997)\n",
      "Rated 9.2 for Men in Black (1997)\n",
      "Rated 9.2 for Some Like It Hot (1959)\n",
      "Rated 9.2 for Seven (Se7en) (1995)\n"
     ]
    }
   ],
   "source": [
    "# Part 8: Recommendation for you\n",
    "Xres = result.x[:num_movies*num_features].reshape(num_movies, num_features)\n",
    "Theta_res = result.x[num_movies*num_features:].reshape(num_users, num_features)\n",
    "p = np.dot(Xres, Theta_res.T)\n",
    "my_predictions = p[:, 1] + Ymean\n",
    "idx = np.argsort(- my_predictions)  # 获得降序排列的索引值\n",
    "for i in idx[:10]:\n",
    "    print(\"Rated {:.1f} for {}\".format(my_predictions[i], movieList[i]))"
   ]
  },
  {
   "cell_type": "code",
   "execution_count": null,
   "metadata": {},
   "outputs": [],
   "source": []
  }
 ],
 "metadata": {
  "kernelspec": {
   "display_name": "Python 3",
   "language": "python",
   "name": "python3"
  },
  "language_info": {
   "codemirror_mode": {
    "name": "ipython",
    "version": 3
   },
   "file_extension": ".py",
   "mimetype": "text/x-python",
   "name": "python",
   "nbconvert_exporter": "python",
   "pygments_lexer": "ipython3",
   "version": "3.6.0"
  }
 },
 "nbformat": 4,
 "nbformat_minor": 2
}
