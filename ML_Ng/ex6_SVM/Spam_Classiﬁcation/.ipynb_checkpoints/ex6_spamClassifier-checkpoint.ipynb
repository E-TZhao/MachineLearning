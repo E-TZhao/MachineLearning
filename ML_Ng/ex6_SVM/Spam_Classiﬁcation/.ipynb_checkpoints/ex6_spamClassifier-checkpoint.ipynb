{
 "cells": [
  {
   "cell_type": "code",
   "execution_count": 51,
   "metadata": {},
   "outputs": [],
   "source": [
    "import numpy as np\n",
    "import matplotlib.pyplot as plt\n",
    "import scipy.io as sio\n",
    "from sklearn import svm"
   ]
  },
  {
   "cell_type": "code",
   "execution_count": 1,
   "metadata": {},
   "outputs": [],
   "source": [
    "import re"
   ]
  },
  {
   "cell_type": "markdown",
   "metadata": {},
   "source": [
    "## 2 Spam Classiﬁcation\n",
    "#### 2.1 Preprocessing Emails\n",
    "- 2.1.1 Vocabulary List\n",
    "\n",
    "#### 2.2 Extracting Features from Emails\n",
    "#### 2.3 Training SVM for Spam Classiﬁcation\n",
    "#### 2.4 Top Predictors for Spam"
   ]
  },
  {
   "cell_type": "code",
   "execution_count": 100,
   "metadata": {
    "scrolled": true
   },
   "outputs": [
    {
     "name": "stdout",
     "output_type": "stream",
     "text": [
      "> Anyone knows how much it costs to host a web portal ?\n",
      ">\n",
      "Well, it depends on how many visitors you're expecting.\n",
      "This can be anywhere from less than 10 bucks a month to a couple of $100. \n",
      "You should checkout http://www.rackspace.com/ or perhaps Amazon EC2 \n",
      "if youre running something big..\n",
      "\n",
      "To unsubscribe yourself from this mailing list, send an email to:\n",
      "groupname-unsubscribe@egroups.com\n",
      "\n",
      "\n"
     ]
    }
   ],
   "source": [
    "fo = open(\"emailSample1.txt\",'r')\n",
    "email_contents = fo.read()\n",
    "fo.close()\n",
    "print(email_contents)"
   ]
  },
  {
   "cell_type": "markdown",
   "metadata": {},
   "source": [
    "[re.findall函数中括号的问题](https://blog.csdn.net/qq_32925781/article/details/83315468)"
   ]
  },
  {
   "cell_type": "code",
   "execution_count": 102,
   "metadata": {
    "scrolled": true
   },
   "outputs": [
    {
     "name": "stdout",
     "output_type": "stream",
     "text": [
      "  anyone knows how much it costs to host a web portal     well  it depends on how many visitors you're expecting  this can be anywhere from less than 10 bucks a month to a couple of dollar100   you should checkout httpaddr or perhaps amazon ec2  if youre running something big    to unsubscribe yourself from this mailing list  send an email to  emailaddr  \n"
     ]
    }
   ],
   "source": [
    "# Email Preprocessing\n",
    "email_contents = email_contents.lower()\n",
    "email_contents = re.sub(r'<[^<>]+>', ' ', email_contents)\n",
    "email_contents = re.sub(r'(http|https)://[^\\s]*', 'httpaddr', email_contents)\n",
    "email_contents = re.sub(r'[^\\s]+@[^\\s]+', 'emailaddr', email_contents)\n",
    "email_contents = re.sub(r'[$]+', 'dollar', email_contents)\n",
    "for char in '@$/#.-:&*+=[]?!(){},''\">_<;%\\n':\n",
    "    email_contents = email_contents.replace(char, ' ')\n",
    "print(email_contents)"
   ]
  },
  {
   "cell_type": "code",
   "execution_count": 72,
   "metadata": {},
   "outputs": [
    {
     "name": "stdout",
     "output_type": "stream",
     "text": [
      "anyon know how much it cost to host a web portal well it depend on how mani visitor you re expect thi can be anywher from less than number buck a month to a coupl of dollarnumb you should checkout httpaddr or perhap amazon ecnumb if your run someth big to unsubscrib yourself from thi mail list send an email to emailaddr\n"
     ]
    }
   ],
   "source": [
    "email_contents = \"anyon know how much it cost to host a web portal well \\\n",
    "it depend on how mani visitor you re expect thi can be anywher from less \\\n",
    "than number buck a month to a coupl of dollarnumb you should checkout \\\n",
    "httpaddr or perhap amazon ecnumb if your run someth big to unsubscrib \\\n",
    "yourself from thi mail list send an email to emailaddr\"\n",
    "\n",
    "print(email_contents)\n",
    "email_contents = email_contents.split(' ')\n",
    "# print(len(email_contents))"
   ]
  },
  {
   "cell_type": "code",
   "execution_count": 69,
   "metadata": {
    "scrolled": true
   },
   "outputs": [],
   "source": [
    "# getVocabList\n",
    "vocabList = {}\n",
    "with open(\"vocab.txt\",'r') as fo:\n",
    "    for line in fo:\n",
    "        line = line.strip('\\n').split('\\t')\n",
    "        vocabList[eval(line[0])] = line[1]"
   ]
  },
  {
   "cell_type": "code",
   "execution_count": 73,
   "metadata": {},
   "outputs": [
    {
     "name": "stdout",
     "output_type": "stream",
     "text": [
      "[86, 916, 794, 1077, 883, 370, 1699, 790, 1822, 1831, 883, 431, 1171, 794, 1002, 1893, 1364, 592, 1676, 238, 162, 89, 688, 945, 1663, 1120, 1062, 1699, 375, 1162, 479, 1893, 1510, 799, 1182, 1237, 810, 1895, 1440, 1547, 181, 1699, 1758, 1896, 688, 1676, 992, 961, 1477, 71, 530, 1699, 531]\n"
     ]
    }
   ],
   "source": [
    "word_indices = []\n",
    "for word in email_contents:\n",
    "    for key, value in vocabList.items():\n",
    "        if word == value:\n",
    "            word_indices.append(key)\n",
    "print(word_indices)\n",
    "#print(len(word_indices))"
   ]
  },
  {
   "cell_type": "code",
   "execution_count": null,
   "metadata": {},
   "outputs": [],
   "source": [
    "'''\n",
    "word_indices = []\n",
    "for word in email_contents:\n",
    "    dict_index = list(vocabList.keys())[list(vocabList.values()).index(word)]\n",
    "    word_indices.append(dict_index)\n",
    "'''"
   ]
  },
  {
   "cell_type": "code",
   "execution_count": 126,
   "metadata": {},
   "outputs": [
    {
     "name": "stdout",
     "output_type": "stream",
     "text": [
      "45.0 (1, 1899)\n"
     ]
    }
   ],
   "source": [
    "# Feature Extraction\n",
    "Xemail = np.zeros(len(vocabList))\n",
    "for key, value in vocabList.items():\n",
    "    if value in email_contents:\n",
    "        Xemail[key - 1] = 1\n",
    "Xemail = Xemail.reshape(1, Xemail.size)\n",
    "print(np.sum(Xemail), Xemail.shape)"
   ]
  },
  {
   "cell_type": "code",
   "execution_count": 79,
   "metadata": {},
   "outputs": [
    {
     "name": "stdout",
     "output_type": "stream",
     "text": [
      "(4000, 1899) (4000,)\n",
      "(1000, 1899) (1000,)\n"
     ]
    }
   ],
   "source": [
    "# Train Linear SVM for Spam Classification\n",
    "data = sio.loadmat(\"spamTrain.mat\")\n",
    "data_test = sio.loadmat(\"spamTest.mat\")\n",
    "X = data['X']\n",
    "y = data['y'].ravel()\n",
    "Xtest = data_test['Xtest']\n",
    "ytest = data_test['ytest'].ravel()\n",
    "print(X.shape, y.shape)\n",
    "print(Xtest.shape, ytest.shape)"
   ]
  },
  {
   "cell_type": "code",
   "execution_count": 81,
   "metadata": {},
   "outputs": [
    {
     "data": {
      "text/plain": [
       "SVC(C=0.1, cache_size=200, class_weight=None, coef0=0.0,\n",
       "  decision_function_shape='ovr', degree=3, gamma='auto', kernel='linear',\n",
       "  max_iter=-1, probability=False, random_state=None, shrinking=True,\n",
       "  tol=0.001, verbose=False)"
      ]
     },
     "execution_count": 81,
     "metadata": {},
     "output_type": "execute_result"
    }
   ],
   "source": [
    "clf = svm.SVC(C = 0.1, kernel = \"linear\")\n",
    "clf.fit(X, y)"
   ]
  },
  {
   "cell_type": "code",
   "execution_count": 83,
   "metadata": {},
   "outputs": [
    {
     "name": "stdout",
     "output_type": "stream",
     "text": [
      "Training Accuracy: 99.825000%\n"
     ]
    }
   ],
   "source": [
    "p_train = clf.predict(X)\n",
    "print(\"Training Accuracy: {:%}\".format(np.mean(p_train == y)))"
   ]
  },
  {
   "cell_type": "code",
   "execution_count": 85,
   "metadata": {},
   "outputs": [
    {
     "name": "stdout",
     "output_type": "stream",
     "text": [
      "Test Accuracy: 98.900000%\n"
     ]
    }
   ],
   "source": [
    "# Test Spam Classification\n",
    "p_test = clf.predict(Xtest)\n",
    "print(\"Test Accuracy: {:%}\".format(np.mean(p_test == ytest)))"
   ]
  },
  {
   "cell_type": "code",
   "execution_count": 131,
   "metadata": {},
   "outputs": [
    {
     "name": "stdout",
     "output_type": "stream",
     "text": [
      "Top predictors of spam:\n",
      "our         (0.500614)\n",
      "click       (0.465916)\n",
      "remov       (0.422869)\n",
      "guarante    (0.383622)\n",
      "visit       (0.367710)\n",
      "basenumb    (0.345064)\n",
      "dollar      (0.323632)\n",
      "will        (0.269724)\n",
      "price       (0.267298)\n",
      "pleas       (0.261169)\n",
      "most        (0.257298)\n",
      "nbsp        (0.253941)\n",
      "lo          (0.253467)\n",
      "ga          (0.248297)\n",
      "hour        (0.246404)\n"
     ]
    }
   ],
   "source": [
    "# Top Predictors of Spam\n",
    "weights = clf.coef_.ravel()\n",
    "idx = np.argsort(- weights)   # 返回排序后的原索引值，默认升序排列，负号表示降序排列\n",
    "print('Top predictors of spam:')\n",
    "for i in idx[:15]:\n",
    "    print(\"{0:12}({1:.6f})\".format(vocabList[i+1], clf.coef_.ravel()[i]))"
   ]
  },
  {
   "cell_type": "code",
   "execution_count": 130,
   "metadata": {},
   "outputs": [
    {
     "name": "stdout",
     "output_type": "stream",
     "text": [
      "Spam Classification: 0\n",
      "(1 indicates spam, 0 indicates not spam)\n"
     ]
    }
   ],
   "source": [
    "# Try Your Own Emails\n",
    "print('Spam Classification: {}\\n(1 indicates spam, 0 indicates not spam)'.format(clf.predict(Xemail)[0]))"
   ]
  },
  {
   "cell_type": "code",
   "execution_count": null,
   "metadata": {},
   "outputs": [],
   "source": []
  }
 ],
 "metadata": {
  "kernelspec": {
   "display_name": "Python 3",
   "language": "python",
   "name": "python3"
  },
  "language_info": {
   "codemirror_mode": {
    "name": "ipython",
    "version": 3
   },
   "file_extension": ".py",
   "mimetype": "text/x-python",
   "name": "python",
   "nbconvert_exporter": "python",
   "pygments_lexer": "ipython3",
   "version": "3.6.0"
  }
 },
 "nbformat": 4,
 "nbformat_minor": 2
}
